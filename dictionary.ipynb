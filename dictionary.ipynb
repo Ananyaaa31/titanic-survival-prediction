{
 "cells": [
  {
   "cell_type": "code",
   "execution_count": 1,
   "id": "09e8732a-c7aa-4314-b843-c31b0d389303",
   "metadata": {},
   "outputs": [],
   "source": [
    "dictionary={\n",
    "    \"a\":10,\n",
    "    \"b\":20,\n",
    "    \"c\":50,\n",
    "    \"d\":20\n",
    "}"
   ]
  },
  {
   "cell_type": "code",
   "execution_count": 3,
   "id": "66ed80d6-c1d7-41f7-9ec5-e4ef07af7213",
   "metadata": {},
   "outputs": [
    {
     "data": {
      "text/plain": [
       "dict_items([('a', 10), ('b', 20), ('c', 50), ('d', 20)])"
      ]
     },
     "execution_count": 3,
     "metadata": {},
     "output_type": "execute_result"
    }
   ],
   "source": [
    "dictionary.items()"
   ]
  },
  {
   "cell_type": "code",
   "execution_count": 15,
   "id": "54da9742-3ac2-4f0c-ab9a-46ab244e01f6",
   "metadata": {},
   "outputs": [
    {
     "name": "stdout",
     "output_type": "stream",
     "text": [
      "value found\n"
     ]
    }
   ],
   "source": [
    "for (i,j) in dictionary.items():\n",
    "    if j == 20:\n",
    "        print (\"value found\")\n",
    "        break"
   ]
  },
  {
   "cell_type": "code",
   "execution_count": 17,
   "id": "d7b030d3-cf0c-4ff2-8d93-8ddc74d66f73",
   "metadata": {},
   "outputs": [
    {
     "name": "stdout",
     "output_type": "stream",
     "text": [
      "Diya : 89\n",
      "Soumyadeep : 95\n",
      "Aparna : 86\n"
     ]
    }
   ],
   "source": [
    "dictionary={\n",
    "    \"Ananya\":80,\n",
    "    \"Diya\":89,\n",
    "    \"Soumyadeep\":95,\n",
    "    \"Aparna\":86,\n",
    "    \"Ankit\":82,\n",
    "    \"Adrija\":81\n",
    "}\n",
    "\n",
    "for (i,j) in dictionary.items():\n",
    "    if j > 85 :\n",
    "        print(i , \":\", j)"
   ]
  },
  {
   "cell_type": "code",
   "execution_count": null,
   "id": "a6f2c24d-0ad8-4886-b353-49924710d146",
   "metadata": {},
   "outputs": [],
   "source": []
  }
 ],
 "metadata": {
  "kernelspec": {
   "display_name": "Python 3 (ipykernel)",
   "language": "python",
   "name": "python3"
  },
  "language_info": {
   "codemirror_mode": {
    "name": "ipython",
    "version": 3
   },
   "file_extension": ".py",
   "mimetype": "text/x-python",
   "name": "python",
   "nbconvert_exporter": "python",
   "pygments_lexer": "ipython3",
   "version": "3.12.4"
  }
 },
 "nbformat": 4,
 "nbformat_minor": 5
}
